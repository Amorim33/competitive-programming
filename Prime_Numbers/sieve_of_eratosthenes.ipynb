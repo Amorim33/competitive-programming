{
 "cells": [
  {
   "cell_type": "markdown",
   "metadata": {},
   "source": [
    "# Sieve of Eratosthenes\n",
    "In mathematics, the `sieve of Eratosthenes` is an ancient algorithm for finding all prime numbers up to any given limit.\n",
    "\n",
    "The main idea is a bit simple, we recive a integer `n`, that represents the limit of the range we want to know all `prime numbers`, than we create a boolean array with size `n` and init all positions with `True`. The core step is to iterate `p` until `p * p <= n`, so that, for each iteration we check if the current number `p` is marked as prime(in the boolean array), if it is `True`, we mark as `False` all positions that are greater than `p²` and multiples of `p`, in the boolean array.\n",
    "\n"
   ]
  },
  {
   "cell_type": "markdown",
   "metadata": {},
   "source": [
    "### Algorithm:"
   ]
  },
  {
   "cell_type": "code",
   "execution_count": 1,
   "metadata": {},
   "outputs": [],
   "source": [
    "primeNumbers = []\n",
    "def sieve_of_eratosthenes(n):\n",
    "\n",
    "    # Create a boolean array \"prime[0..n]\" and initialize\n",
    "    primeFlags = [True for i in range(n+1)]\n",
    "\n",
    "    # 0 and 1 are not prime numbers\n",
    "    primeFlags[0] = False\n",
    "    primeFlags[1] = False\n",
    "    p = 2\n",
    "    while (p * p <= n):\n",
    "        if (primeFlags[p] == True):\n",
    " \n",
    "            # Update all multiples of p\n",
    "            for i in range(p * p, n+1, p):\n",
    "                primeFlags[i] = False\n",
    "        p += 1\n",
    " \n",
    "    # Save prime numbers\n",
    "    for p in range(2, n+1):\n",
    "        if primeFlags[p]:\n",
    "            primeNumbers.append(p)\n",
    " "
   ]
  },
  {
   "cell_type": "markdown",
   "metadata": {},
   "source": [
    "``Time Complexity: O(n*log(log(n)))``"
   ]
  },
  {
   "cell_type": "markdown",
   "metadata": {},
   "source": [
    "### Proof of Concept:"
   ]
  },
  {
   "cell_type": "code",
   "execution_count": 2,
   "metadata": {},
   "outputs": [
    {
     "name": "stdout",
     "output_type": "stream",
     "text": [
      "Prime numbers smaller than or equal to 20 are:\n",
      "[2, 3, 5, 7, 11, 13, 17, 19]\n"
     ]
    }
   ],
   "source": [
    "n = 20\n",
    "\n",
    "print(\"Prime numbers smaller than or equal to\", n, \"are:\")\n",
    "sieve_of_eratosthenes(n)\n",
    "print(primeNumbers)"
   ]
  },
  {
   "cell_type": "markdown",
   "metadata": {},
   "source": [
    "``References:``<br/>\n",
    "https://www.geeksforgeeks.org/sieve-of-eratosthenes/<br/>\n",
    "https://codeforces.com/blog/entry/3519<br/>\n",
    "\n",
    "``Problems:``<br/>\n",
    "https://codeforces.com/problemset/problem/26/A<br/>\n",
    "https://codeforces.com/problemset/problem/271/B"
   ]
  }
 ],
 "metadata": {
  "kernelspec": {
   "display_name": "Python 3.8.10 64-bit",
   "language": "python",
   "name": "python3"
  },
  "language_info": {
   "codemirror_mode": {
    "name": "ipython",
    "version": 3
   },
   "file_extension": ".py",
   "mimetype": "text/x-python",
   "name": "python",
   "nbconvert_exporter": "python",
   "pygments_lexer": "ipython3",
   "version": "3.8.10"
  },
  "orig_nbformat": 4,
  "vscode": {
   "interpreter": {
    "hash": "916dbcbb3f70747c44a77c7bcd40155683ae19c65e1c03b4aa3499c5328201f1"
   }
  }
 },
 "nbformat": 4,
 "nbformat_minor": 2
}
